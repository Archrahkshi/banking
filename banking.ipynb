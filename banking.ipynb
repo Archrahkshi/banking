{
 "cells": [
  {
   "cell_type": "markdown",
   "metadata": {},
   "source": [
    "# Модель выявления подозрительных платежей"
   ]
  },
  {
   "cell_type": "code",
   "execution_count": 21,
   "metadata": {},
   "outputs": [],
   "source": [
    "import pandas as pd\n",
    "import numpy as np\n",
    "from sklearn.model_selection import train_test_split\n",
    "from sklearn.ensemble import RandomForestClassifier\n",
    "from sklearn.metrics import confusion_matrix, classification_report"
   ]
  },
  {
   "cell_type": "code",
   "execution_count": 22,
   "metadata": {},
   "outputs": [],
   "source": [
    "hist_trx = pd.read_csv('C:\\\\Users\\\\firek\\\\Desktop\\\\hw1\\\\hist_trx.csv', index_col=0)\n",
    "hits0712 = pd.read_csv('C:\\\\Users\\\\firek\\\\Desktop\\\\hw1\\\\hits0712.csv', index_col=0)"
   ]
  },
  {
   "cell_type": "code",
   "execution_count": 23,
   "outputs": [
    {
     "data": {
      "text/plain": "(562490, 10)"
     },
     "execution_count": 23,
     "metadata": {},
     "output_type": "execute_result"
    }
   ],
   "source": [
    "hist_trx.shape"
   ],
   "metadata": {
    "collapsed": false,
    "pycharm": {
     "name": "#%%\n"
    }
   }
  },
  {
   "cell_type": "markdown",
   "source": [
    "Берём предполагаемого мошенника и смотрим его историю за две недели\n",
    "до операции, на которую сработала система фрод-мониторинга."
   ],
   "metadata": {
    "collapsed": false
   }
  },
  {
   "cell_type": "code",
   "execution_count": 24,
   "outputs": [
    {
     "data": {
      "text/plain": "                               event_id    user_id  rec_user_id  \\\n5      0fcea7fec4ff479cac8cf37b4555c817   75301207     49913000   \n6      c29a4e64d27b435b9b55aa3e62ce54d4    1200695     12797310   \n8      3107b2b1afcb490ab0a31135eb4b386c   45657780     23814017   \n10     d9bc95d991144d53b950d8084fa846bf   21683486      9865131   \n22     9fc959da4cd144ea8bf5bae2dc041a5e    4531894  VSP15472255   \n...                                 ...        ...          ...   \n23682  28ea1a08c79240449922d5756646a353   92237374     69162645   \n23683  65a5b1dd74564e99b3b3c39b9ee460f7    3316389     89796796   \n23684  df808870913643c7ba24e990e6bbea39   24338601     58490342   \n23685  de1b30f52c264e95816e0cc163b2c116    2000352     37033043   \n23693  c03f385560d54ae685ba6d7c5a2ad50a  102617826     34882458   \n\n                 date_time resolution sub_channel  \n5      2018-12-07 07:56:49          G      ATMAPI  \n6      2018-12-07 07:14:41          G   MOBILEAPI  \n8      2018-12-07 14:02:30          G   MOBILEAPI  \n10     2018-12-07 10:32:41          G      WEBAPI  \n22     2018-12-07 18:22:52          G   MOBILEAPI  \n...                    ...        ...         ...  \n23682  2018-12-07 17:46:35          G   MOBILEAPI  \n23683  2018-12-07 18:42:47          G      WEBAPI  \n23684  2018-12-07 13:55:59          G   MOBILEAPI  \n23685  2018-12-07 17:55:32          G      ATMAPI  \n23693  2018-12-07 06:33:06          G      ATMAPI  \n\n[9016 rows x 6 columns]",
      "text/html": "<div>\n<style scoped>\n    .dataframe tbody tr th:only-of-type {\n        vertical-align: middle;\n    }\n\n    .dataframe tbody tr th {\n        vertical-align: top;\n    }\n\n    .dataframe thead th {\n        text-align: right;\n    }\n</style>\n<table border=\"1\" class=\"dataframe\">\n  <thead>\n    <tr style=\"text-align: right;\">\n      <th></th>\n      <th>event_id</th>\n      <th>user_id</th>\n      <th>rec_user_id</th>\n      <th>date_time</th>\n      <th>resolution</th>\n      <th>sub_channel</th>\n    </tr>\n  </thead>\n  <tbody>\n    <tr>\n      <th>5</th>\n      <td>0fcea7fec4ff479cac8cf37b4555c817</td>\n      <td>75301207</td>\n      <td>49913000</td>\n      <td>2018-12-07 07:56:49</td>\n      <td>G</td>\n      <td>ATMAPI</td>\n    </tr>\n    <tr>\n      <th>6</th>\n      <td>c29a4e64d27b435b9b55aa3e62ce54d4</td>\n      <td>1200695</td>\n      <td>12797310</td>\n      <td>2018-12-07 07:14:41</td>\n      <td>G</td>\n      <td>MOBILEAPI</td>\n    </tr>\n    <tr>\n      <th>8</th>\n      <td>3107b2b1afcb490ab0a31135eb4b386c</td>\n      <td>45657780</td>\n      <td>23814017</td>\n      <td>2018-12-07 14:02:30</td>\n      <td>G</td>\n      <td>MOBILEAPI</td>\n    </tr>\n    <tr>\n      <th>10</th>\n      <td>d9bc95d991144d53b950d8084fa846bf</td>\n      <td>21683486</td>\n      <td>9865131</td>\n      <td>2018-12-07 10:32:41</td>\n      <td>G</td>\n      <td>WEBAPI</td>\n    </tr>\n    <tr>\n      <th>22</th>\n      <td>9fc959da4cd144ea8bf5bae2dc041a5e</td>\n      <td>4531894</td>\n      <td>VSP15472255</td>\n      <td>2018-12-07 18:22:52</td>\n      <td>G</td>\n      <td>MOBILEAPI</td>\n    </tr>\n    <tr>\n      <th>...</th>\n      <td>...</td>\n      <td>...</td>\n      <td>...</td>\n      <td>...</td>\n      <td>...</td>\n      <td>...</td>\n    </tr>\n    <tr>\n      <th>23682</th>\n      <td>28ea1a08c79240449922d5756646a353</td>\n      <td>92237374</td>\n      <td>69162645</td>\n      <td>2018-12-07 17:46:35</td>\n      <td>G</td>\n      <td>MOBILEAPI</td>\n    </tr>\n    <tr>\n      <th>23683</th>\n      <td>65a5b1dd74564e99b3b3c39b9ee460f7</td>\n      <td>3316389</td>\n      <td>89796796</td>\n      <td>2018-12-07 18:42:47</td>\n      <td>G</td>\n      <td>WEBAPI</td>\n    </tr>\n    <tr>\n      <th>23684</th>\n      <td>df808870913643c7ba24e990e6bbea39</td>\n      <td>24338601</td>\n      <td>58490342</td>\n      <td>2018-12-07 13:55:59</td>\n      <td>G</td>\n      <td>MOBILEAPI</td>\n    </tr>\n    <tr>\n      <th>23685</th>\n      <td>de1b30f52c264e95816e0cc163b2c116</td>\n      <td>2000352</td>\n      <td>37033043</td>\n      <td>2018-12-07 17:55:32</td>\n      <td>G</td>\n      <td>ATMAPI</td>\n    </tr>\n    <tr>\n      <th>23693</th>\n      <td>c03f385560d54ae685ba6d7c5a2ad50a</td>\n      <td>102617826</td>\n      <td>34882458</td>\n      <td>2018-12-07 06:33:06</td>\n      <td>G</td>\n      <td>ATMAPI</td>\n    </tr>\n  </tbody>\n</table>\n<p>9016 rows × 6 columns</p>\n</div>"
     },
     "execution_count": 24,
     "metadata": {},
     "output_type": "execute_result"
    }
   ],
   "source": [
    "hits0712"
   ],
   "metadata": {
    "collapsed": false,
    "pycharm": {
     "name": "#%%\n"
    }
   }
  },
  {
   "cell_type": "markdown",
   "source": [
    "`event_id` – внутренний id;<br>\n",
    "`date_time` – время операции (GMT);<br>\n",
    "`rec_user_id` – внутренний id клиента был получателем;<br>\n",
    "`user_id` – внутренний id клиента, который отправлял."
   ],
   "metadata": {
    "collapsed": false
   }
  },
  {
   "cell_type": "code",
   "execution_count": 25,
   "metadata": {},
   "outputs": [
    {
     "name": "stdout",
     "output_type": "stream",
     "text": [
      "event_id user_id rec_user_id date_time resolution sub_channel\n"
     ]
    }
   ],
   "source": [
    "print(*hits0712.columns.tolist())"
   ]
  },
  {
   "cell_type": "code",
   "execution_count": 26,
   "metadata": {},
   "outputs": [
    {
     "data": {
      "text/plain": "G    8943\nF      63\nS      10\nName: resolution, dtype: int64"
     },
     "execution_count": 26,
     "metadata": {},
     "output_type": "execute_result"
    }
   ],
   "source": [
    "hits0712.resolution.value_counts()"
   ]
  },
  {
   "cell_type": "markdown",
   "metadata": {
    "pycharm": {
     "name": "#%% md\n"
    }
   },
   "source": [
    "За дроп будем считать клиента с резолюцией F (fraud) или S (suspicious).\n",
    "\n",
    "Примерно 9000 ложно сработали и 73 нормально сработали на реальный фрод.\n",
    "\n",
    "Наша задача – получить оценку для каждой транзакции, был ли rec_user_id дропом или легитимным\n",
    "(именно для этого мы подтянули историю для отправителя и получателя)."
   ]
  },
  {
   "cell_type": "markdown",
   "source": [
    "Вытащим получателя и резолюцию."
   ],
   "metadata": {
    "collapsed": false,
    "pycharm": {
     "name": "#%% md\n"
    }
   }
  },
  {
   "cell_type": "code",
   "execution_count": 27,
   "metadata": {},
   "outputs": [
    {
     "data": {
      "text/plain": "    rec_user_id resolution\n5      49913000          G\n6      12797310          G\n8      23814017          G\n10      9865131          G\n22  VSP15472255          G",
      "text/html": "<div>\n<style scoped>\n    .dataframe tbody tr th:only-of-type {\n        vertical-align: middle;\n    }\n\n    .dataframe tbody tr th {\n        vertical-align: top;\n    }\n\n    .dataframe thead th {\n        text-align: right;\n    }\n</style>\n<table border=\"1\" class=\"dataframe\">\n  <thead>\n    <tr style=\"text-align: right;\">\n      <th></th>\n      <th>rec_user_id</th>\n      <th>resolution</th>\n    </tr>\n  </thead>\n  <tbody>\n    <tr>\n      <th>5</th>\n      <td>49913000</td>\n      <td>G</td>\n    </tr>\n    <tr>\n      <th>6</th>\n      <td>12797310</td>\n      <td>G</td>\n    </tr>\n    <tr>\n      <th>8</th>\n      <td>23814017</td>\n      <td>G</td>\n    </tr>\n    <tr>\n      <th>10</th>\n      <td>9865131</td>\n      <td>G</td>\n    </tr>\n    <tr>\n      <th>22</th>\n      <td>VSP15472255</td>\n      <td>G</td>\n    </tr>\n  </tbody>\n</table>\n</div>"
     },
     "execution_count": 27,
     "metadata": {},
     "output_type": "execute_result"
    }
   ],
   "source": [
    "target = hits0712[['rec_user_id', 'resolution']].drop_duplicates()\n",
    "target.head()"
   ]
  },
  {
   "cell_type": "markdown",
   "metadata": {
    "pycharm": {
     "name": "#%% md\n"
    }
   },
   "source": [
    "Целевыми классами мы считаем Fraud и Suspicious."
   ]
  },
  {
   "cell_type": "code",
   "execution_count": null,
   "outputs": [],
   "source": [
    "target['class'] = target.resolution.map(lambda x: {'G': 0, 'F': 1, 'S': 1}[x])\n",
    "target.head()"
   ],
   "metadata": {
    "collapsed": false,
    "pycharm": {
     "name": "#%%\n"
    }
   }
  },
  {
   "cell_type": "markdown",
   "metadata": {
    "pycharm": {
     "name": "#%% md\n"
    }
   },
   "source": [
    "Получим примеры для обучения и контрольной выборки."
   ]
  },
  {
   "cell_type": "code",
   "execution_count": 29,
   "outputs": [
    {
     "data": {
      "text/plain": "                           event_id            date_time    user_id  \\\n0  22c9f1ac686a43e18cdb798489193238  2018-12-06 09:33:21  102050167   \n1  62dac13fac68416d9bc340c51ddcb977  2018-12-06 09:36:08  102050167   \n2  9b666b8c9d4d4faea78e2b28a5468794  2018-12-06 12:21:02  102050167   \n3  d4d805fc3d5f4c91aa9b0389333b780c  2018-12-06 07:46:58  102050167   \n4  1d162351117a4418949dcf94111b9964  2018-12-06 12:21:27  102050167   \n\n       sub_channel event_type      sub_type  atm_mcc mcc_group  \\\n0  ISSUER_ACQUIRER    PAYMENT  POS_PURCHASE   5921.0         R   \n1  ISSUER_ACQUIRER    PAYMENT  POS_PURCHASE   5331.0         R   \n2  ISSUER_ACQUIRER    PAYMENT  POS_PURCHASE   5921.0         R   \n3  ISSUER_ACQUIRER    PAYMENT  POS_PURCHASE   5331.0         R   \n4  ISSUER_ACQUIRER    PAYMENT  POS_PURCHASE   5331.0         R   \n\n  atm_merchant_name  amount  \n0           YUG 426   280.0  \n1    MAGAZIN RODINA   376.9  \n2           YUG 426   143.0  \n3    MAGAZIN RODINA   162.0  \n4    MAGAZIN RODINA    56.0  ",
      "text/html": "<div>\n<style scoped>\n    .dataframe tbody tr th:only-of-type {\n        vertical-align: middle;\n    }\n\n    .dataframe tbody tr th {\n        vertical-align: top;\n    }\n\n    .dataframe thead th {\n        text-align: right;\n    }\n</style>\n<table border=\"1\" class=\"dataframe\">\n  <thead>\n    <tr style=\"text-align: right;\">\n      <th></th>\n      <th>event_id</th>\n      <th>date_time</th>\n      <th>user_id</th>\n      <th>sub_channel</th>\n      <th>event_type</th>\n      <th>sub_type</th>\n      <th>atm_mcc</th>\n      <th>mcc_group</th>\n      <th>atm_merchant_name</th>\n      <th>amount</th>\n    </tr>\n  </thead>\n  <tbody>\n    <tr>\n      <th>0</th>\n      <td>22c9f1ac686a43e18cdb798489193238</td>\n      <td>2018-12-06 09:33:21</td>\n      <td>102050167</td>\n      <td>ISSUER_ACQUIRER</td>\n      <td>PAYMENT</td>\n      <td>POS_PURCHASE</td>\n      <td>5921.0</td>\n      <td>R</td>\n      <td>YUG 426</td>\n      <td>280.0</td>\n    </tr>\n    <tr>\n      <th>1</th>\n      <td>62dac13fac68416d9bc340c51ddcb977</td>\n      <td>2018-12-06 09:36:08</td>\n      <td>102050167</td>\n      <td>ISSUER_ACQUIRER</td>\n      <td>PAYMENT</td>\n      <td>POS_PURCHASE</td>\n      <td>5331.0</td>\n      <td>R</td>\n      <td>MAGAZIN RODINA</td>\n      <td>376.9</td>\n    </tr>\n    <tr>\n      <th>2</th>\n      <td>9b666b8c9d4d4faea78e2b28a5468794</td>\n      <td>2018-12-06 12:21:02</td>\n      <td>102050167</td>\n      <td>ISSUER_ACQUIRER</td>\n      <td>PAYMENT</td>\n      <td>POS_PURCHASE</td>\n      <td>5921.0</td>\n      <td>R</td>\n      <td>YUG 426</td>\n      <td>143.0</td>\n    </tr>\n    <tr>\n      <th>3</th>\n      <td>d4d805fc3d5f4c91aa9b0389333b780c</td>\n      <td>2018-12-06 07:46:58</td>\n      <td>102050167</td>\n      <td>ISSUER_ACQUIRER</td>\n      <td>PAYMENT</td>\n      <td>POS_PURCHASE</td>\n      <td>5331.0</td>\n      <td>R</td>\n      <td>MAGAZIN RODINA</td>\n      <td>162.0</td>\n    </tr>\n    <tr>\n      <th>4</th>\n      <td>1d162351117a4418949dcf94111b9964</td>\n      <td>2018-12-06 12:21:27</td>\n      <td>102050167</td>\n      <td>ISSUER_ACQUIRER</td>\n      <td>PAYMENT</td>\n      <td>POS_PURCHASE</td>\n      <td>5331.0</td>\n      <td>R</td>\n      <td>MAGAZIN RODINA</td>\n      <td>56.0</td>\n    </tr>\n  </tbody>\n</table>\n</div>"
     },
     "execution_count": 29,
     "metadata": {},
     "output_type": "execute_result"
    }
   ],
   "source": [
    "hist_trx.head()"
   ],
   "metadata": {
    "collapsed": false,
    "pycharm": {
     "name": "#%%\n"
    }
   }
  },
  {
   "cell_type": "code",
   "execution_count": 30,
   "metadata": {},
   "outputs": [
    {
     "data": {
      "text/plain": "                           event_id            date_time    user_id  \\\n0  22c9f1ac686a43e18cdb798489193238  2018-12-06 09:33:21  102050167   \n1  62dac13fac68416d9bc340c51ddcb977  2018-12-06 09:36:08  102050167   \n2  9b666b8c9d4d4faea78e2b28a5468794  2018-12-06 12:21:02  102050167   \n3  d4d805fc3d5f4c91aa9b0389333b780c  2018-12-06 07:46:58  102050167   \n4  1d162351117a4418949dcf94111b9964  2018-12-06 12:21:27  102050167   \n\n       sub_channel event_type      sub_type  atm_mcc mcc_group  \\\n0  ISSUER_ACQUIRER    PAYMENT  POS_PURCHASE   5921.0         R   \n1  ISSUER_ACQUIRER    PAYMENT  POS_PURCHASE   5331.0         R   \n2  ISSUER_ACQUIRER    PAYMENT  POS_PURCHASE   5921.0         R   \n3  ISSUER_ACQUIRER    PAYMENT  POS_PURCHASE   5331.0         R   \n4  ISSUER_ACQUIRER    PAYMENT  POS_PURCHASE   5331.0         R   \n\n  atm_merchant_name  amount  one  \n0           YUG 426   280.0    0  \n1    MAGAZIN RODINA   376.9    0  \n2           YUG 426   143.0    0  \n3    MAGAZIN RODINA   162.0    0  \n4    MAGAZIN RODINA    56.0    0  ",
      "text/html": "<div>\n<style scoped>\n    .dataframe tbody tr th:only-of-type {\n        vertical-align: middle;\n    }\n\n    .dataframe tbody tr th {\n        vertical-align: top;\n    }\n\n    .dataframe thead th {\n        text-align: right;\n    }\n</style>\n<table border=\"1\" class=\"dataframe\">\n  <thead>\n    <tr style=\"text-align: right;\">\n      <th></th>\n      <th>event_id</th>\n      <th>date_time</th>\n      <th>user_id</th>\n      <th>sub_channel</th>\n      <th>event_type</th>\n      <th>sub_type</th>\n      <th>atm_mcc</th>\n      <th>mcc_group</th>\n      <th>atm_merchant_name</th>\n      <th>amount</th>\n      <th>one</th>\n    </tr>\n  </thead>\n  <tbody>\n    <tr>\n      <th>0</th>\n      <td>22c9f1ac686a43e18cdb798489193238</td>\n      <td>2018-12-06 09:33:21</td>\n      <td>102050167</td>\n      <td>ISSUER_ACQUIRER</td>\n      <td>PAYMENT</td>\n      <td>POS_PURCHASE</td>\n      <td>5921.0</td>\n      <td>R</td>\n      <td>YUG 426</td>\n      <td>280.0</td>\n      <td>0</td>\n    </tr>\n    <tr>\n      <th>1</th>\n      <td>62dac13fac68416d9bc340c51ddcb977</td>\n      <td>2018-12-06 09:36:08</td>\n      <td>102050167</td>\n      <td>ISSUER_ACQUIRER</td>\n      <td>PAYMENT</td>\n      <td>POS_PURCHASE</td>\n      <td>5331.0</td>\n      <td>R</td>\n      <td>MAGAZIN RODINA</td>\n      <td>376.9</td>\n      <td>0</td>\n    </tr>\n    <tr>\n      <th>2</th>\n      <td>9b666b8c9d4d4faea78e2b28a5468794</td>\n      <td>2018-12-06 12:21:02</td>\n      <td>102050167</td>\n      <td>ISSUER_ACQUIRER</td>\n      <td>PAYMENT</td>\n      <td>POS_PURCHASE</td>\n      <td>5921.0</td>\n      <td>R</td>\n      <td>YUG 426</td>\n      <td>143.0</td>\n      <td>0</td>\n    </tr>\n    <tr>\n      <th>3</th>\n      <td>d4d805fc3d5f4c91aa9b0389333b780c</td>\n      <td>2018-12-06 07:46:58</td>\n      <td>102050167</td>\n      <td>ISSUER_ACQUIRER</td>\n      <td>PAYMENT</td>\n      <td>POS_PURCHASE</td>\n      <td>5331.0</td>\n      <td>R</td>\n      <td>MAGAZIN RODINA</td>\n      <td>162.0</td>\n      <td>0</td>\n    </tr>\n    <tr>\n      <th>4</th>\n      <td>1d162351117a4418949dcf94111b9964</td>\n      <td>2018-12-06 12:21:27</td>\n      <td>102050167</td>\n      <td>ISSUER_ACQUIRER</td>\n      <td>PAYMENT</td>\n      <td>POS_PURCHASE</td>\n      <td>5331.0</td>\n      <td>R</td>\n      <td>MAGAZIN RODINA</td>\n      <td>56.0</td>\n      <td>0</td>\n    </tr>\n  </tbody>\n</table>\n</div>"
     },
     "execution_count": 30,
     "metadata": {},
     "output_type": "execute_result"
    }
   ],
   "source": [
    "new_data = hist_trx.copy()\n",
    "new_data['one'] = (new_data['amount'] == 1.0).astype(int)\n",
    "new_data.head()"
   ]
  },
  {
   "cell_type": "markdown",
   "metadata": {
    "pycharm": {
     "name": "#%% md\n"
    }
   },
   "source": [
    "Удаляем информацию за текущий день, чтобы не было утечек."
   ]
  },
  {
   "cell_type": "code",
   "execution_count": 31,
   "outputs": [],
   "source": [
    "hist_trx_clean = hist_trx[hist_trx.date_time < '2018-12-07']\n",
    "new_data_clean = new_data[new_data.date_time < '2018-12-07']"
   ],
   "metadata": {
    "collapsed": false,
    "pycharm": {
     "name": "#%%\n"
    }
   }
  },
  {
   "cell_type": "markdown",
   "source": [
    "Объединяем очищенные данные с таргетом."
   ],
   "metadata": {
    "collapsed": false,
    "pycharm": {
     "name": "#%% md\n"
    }
   }
  },
  {
   "cell_type": "code",
   "execution_count": 32,
   "outputs": [
    {
     "name": "stdout",
     "output_type": "stream",
     "text": [
      "event_id\n",
      "date_time\n",
      "user_id\n",
      "sub_channel\n",
      "event_type\n",
      "sub_type\n",
      "atm_mcc\n",
      "mcc_group\n",
      "atm_merchant_name\n",
      "amount\n",
      "rec_user_id\n",
      "resolution\n",
      "class\n"
     ]
    }
   ],
   "source": [
    "hist_trx_cleanest = pd.merge(\n",
    "    hist_trx_clean,\n",
    "    target,\n",
    "    left_on='user_id',\n",
    "    right_on='rec_user_id'\n",
    ")\n",
    "print(*hist_trx_cleanest.columns.to_list(), sep='\\n')"
   ],
   "metadata": {
    "collapsed": false,
    "pycharm": {
     "name": "#%%\n"
    }
   }
  },
  {
   "cell_type": "code",
   "execution_count": 33,
   "metadata": {},
   "outputs": [
    {
     "name": "stdout",
     "output_type": "stream",
     "text": [
      "event_id\n",
      "date_time\n",
      "user_id\n",
      "sub_channel\n",
      "event_type\n",
      "sub_type\n",
      "atm_mcc\n",
      "mcc_group\n",
      "atm_merchant_name\n",
      "amount\n",
      "one\n",
      "rec_user_id\n",
      "resolution\n",
      "class\n"
     ]
    }
   ],
   "source": [
    "new_data_cleanest = pd.merge(\n",
    "    new_data_clean,\n",
    "    target,\n",
    "    left_on ='user_id',\n",
    "    right_on = 'rec_user_id'\n",
    ")\n",
    "print(*new_data_cleanest.columns.to_list(), sep='\\n')"
   ]
  },
  {
   "cell_type": "code",
   "execution_count": 34,
   "metadata": {},
   "outputs": [],
   "source": [
    "hist_trx_cleanest[['user_id', 'mcc_group']].to_csv(\n",
    "    'history_cleaned.csv',\n",
    "    header=False\n",
    ")\n",
    "all_data = pd.read_csv(\n",
    "    'history_cleaned.csv',\n",
    "    header=0,\n",
    "    names=['index', 'rec_user_id', 'mcc_group']\n",
    ")"
   ]
  },
  {
   "cell_type": "markdown",
   "source": [
    "Есть получатель и информация, в каких точках он расплачивается."
   ],
   "metadata": {
    "collapsed": false,
    "pycharm": {
     "name": "#%% md\n"
    }
   }
  },
  {
   "cell_type": "code",
   "execution_count": 35,
   "outputs": [
    {
     "data": {
      "text/plain": "   index rec_user_id mcc_group\n0      1   102050167         R\n1      2   102050167         R\n2      3   102050167         R\n3      4   102050167         R\n4      5   102050167         R",
      "text/html": "<div>\n<style scoped>\n    .dataframe tbody tr th:only-of-type {\n        vertical-align: middle;\n    }\n\n    .dataframe tbody tr th {\n        vertical-align: top;\n    }\n\n    .dataframe thead th {\n        text-align: right;\n    }\n</style>\n<table border=\"1\" class=\"dataframe\">\n  <thead>\n    <tr style=\"text-align: right;\">\n      <th></th>\n      <th>index</th>\n      <th>rec_user_id</th>\n      <th>mcc_group</th>\n    </tr>\n  </thead>\n  <tbody>\n    <tr>\n      <th>0</th>\n      <td>1</td>\n      <td>102050167</td>\n      <td>R</td>\n    </tr>\n    <tr>\n      <th>1</th>\n      <td>2</td>\n      <td>102050167</td>\n      <td>R</td>\n    </tr>\n    <tr>\n      <th>2</th>\n      <td>3</td>\n      <td>102050167</td>\n      <td>R</td>\n    </tr>\n    <tr>\n      <th>3</th>\n      <td>4</td>\n      <td>102050167</td>\n      <td>R</td>\n    </tr>\n    <tr>\n      <th>4</th>\n      <td>5</td>\n      <td>102050167</td>\n      <td>R</td>\n    </tr>\n  </tbody>\n</table>\n</div>"
     },
     "execution_count": 35,
     "metadata": {},
     "output_type": "execute_result"
    }
   ],
   "source": [
    "all_data.head()"
   ],
   "metadata": {
    "collapsed": false,
    "pycharm": {
     "name": "#%%\n"
    }
   }
  },
  {
   "cell_type": "code",
   "execution_count": 36,
   "metadata": {},
   "outputs": [
    {
     "data": {
      "text/plain": "          user_id         count\n0       100006366    436.417486\n1       100013051   1380.384210\n2       100017681  69139.844194\n3       100023450   2335.039513\n4       100031471     58.434334\n...           ...           ...\n14883   VSP847400  18095.500000\n14884    VSP88139  24777.818727\n14885  VSP9911909    413.317074\n14886  VSP9912220    441.094041\n14887  VSP9915153      0.000000\n\n[14888 rows x 2 columns]",
      "text/html": "<div>\n<style scoped>\n    .dataframe tbody tr th:only-of-type {\n        vertical-align: middle;\n    }\n\n    .dataframe tbody tr th {\n        vertical-align: top;\n    }\n\n    .dataframe thead th {\n        text-align: right;\n    }\n</style>\n<table border=\"1\" class=\"dataframe\">\n  <thead>\n    <tr style=\"text-align: right;\">\n      <th></th>\n      <th>user_id</th>\n      <th>count</th>\n    </tr>\n  </thead>\n  <tbody>\n    <tr>\n      <th>0</th>\n      <td>100006366</td>\n      <td>436.417486</td>\n    </tr>\n    <tr>\n      <th>1</th>\n      <td>100013051</td>\n      <td>1380.384210</td>\n    </tr>\n    <tr>\n      <th>2</th>\n      <td>100017681</td>\n      <td>69139.844194</td>\n    </tr>\n    <tr>\n      <th>3</th>\n      <td>100023450</td>\n      <td>2335.039513</td>\n    </tr>\n    <tr>\n      <th>4</th>\n      <td>100031471</td>\n      <td>58.434334</td>\n    </tr>\n    <tr>\n      <th>...</th>\n      <td>...</td>\n      <td>...</td>\n    </tr>\n    <tr>\n      <th>14883</th>\n      <td>VSP847400</td>\n      <td>18095.500000</td>\n    </tr>\n    <tr>\n      <th>14884</th>\n      <td>VSP88139</td>\n      <td>24777.818727</td>\n    </tr>\n    <tr>\n      <th>14885</th>\n      <td>VSP9911909</td>\n      <td>413.317074</td>\n    </tr>\n    <tr>\n      <th>14886</th>\n      <td>VSP9912220</td>\n      <td>441.094041</td>\n    </tr>\n    <tr>\n      <th>14887</th>\n      <td>VSP9915153</td>\n      <td>0.000000</td>\n    </tr>\n  </tbody>\n</table>\n<p>14888 rows × 2 columns</p>\n</div>"
     },
     "execution_count": 36,
     "metadata": {},
     "output_type": "execute_result"
    }
   ],
   "source": [
    "hist_trx_clean \\\n",
    "    .where(hist_trx_clean['user_id'] == '100013051') \\\n",
    "    .dropna()\n",
    "hist_trx_clean \\\n",
    "    .groupby('user_id') \\\n",
    "    .apply(lambda x: np.std(x['amount'])) \\\n",
    "    .reset_index(name='count')"
   ]
  },
  {
   "cell_type": "code",
   "execution_count": 37,
   "metadata": {},
   "outputs": [
    {
     "data": {
      "text/plain": "          user_id  count\n0       100006366      1\n1       100013051      7\n2       100017681     21\n3       100023450      0\n4       100031471      1\n...           ...    ...\n14883   VSP847400      0\n14884    VSP88139      0\n14885  VSP9911909      0\n14886  VSP9912220      0\n14887  VSP9915153      0\n\n[14888 rows x 2 columns]",
      "text/html": "<div>\n<style scoped>\n    .dataframe tbody tr th:only-of-type {\n        vertical-align: middle;\n    }\n\n    .dataframe tbody tr th {\n        vertical-align: top;\n    }\n\n    .dataframe thead th {\n        text-align: right;\n    }\n</style>\n<table border=\"1\" class=\"dataframe\">\n  <thead>\n    <tr style=\"text-align: right;\">\n      <th></th>\n      <th>user_id</th>\n      <th>count</th>\n    </tr>\n  </thead>\n  <tbody>\n    <tr>\n      <th>0</th>\n      <td>100006366</td>\n      <td>1</td>\n    </tr>\n    <tr>\n      <th>1</th>\n      <td>100013051</td>\n      <td>7</td>\n    </tr>\n    <tr>\n      <th>2</th>\n      <td>100017681</td>\n      <td>21</td>\n    </tr>\n    <tr>\n      <th>3</th>\n      <td>100023450</td>\n      <td>0</td>\n    </tr>\n    <tr>\n      <th>4</th>\n      <td>100031471</td>\n      <td>1</td>\n    </tr>\n    <tr>\n      <th>...</th>\n      <td>...</td>\n      <td>...</td>\n    </tr>\n    <tr>\n      <th>14883</th>\n      <td>VSP847400</td>\n      <td>0</td>\n    </tr>\n    <tr>\n      <th>14884</th>\n      <td>VSP88139</td>\n      <td>0</td>\n    </tr>\n    <tr>\n      <th>14885</th>\n      <td>VSP9911909</td>\n      <td>0</td>\n    </tr>\n    <tr>\n      <th>14886</th>\n      <td>VSP9912220</td>\n      <td>0</td>\n    </tr>\n    <tr>\n      <th>14887</th>\n      <td>VSP9915153</td>\n      <td>0</td>\n    </tr>\n  </tbody>\n</table>\n<p>14888 rows × 2 columns</p>\n</div>"
     },
     "execution_count": 37,
     "metadata": {},
     "output_type": "execute_result"
    }
   ],
   "source": [
    "hist_trx_clean \\\n",
    "    .groupby('user_id') \\\n",
    "    .apply(lambda x: (x['amount'] == 1).sum()) \\\n",
    "    .reset_index(name='count')"
   ]
  },
  {
   "cell_type": "markdown",
   "metadata": {
    "pycharm": {
     "name": "#%% md\n"
    }
   },
   "source": [
    "Понимая характер трат и их количество, закодируем в 1 и 0 категориальные признаки."
   ]
  },
  {
   "cell_type": "code",
   "execution_count": 38,
   "outputs": [
    {
     "data": {
      "text/plain": "R    86474\nC    82975\nU    52605\nZ    31511\nF    10366\nX     2546\nT     1182\nA      660\nH      354\nJ      238\nQ      105\nO       31\nName: mcc_group, dtype: int64"
     },
     "execution_count": 38,
     "metadata": {},
     "output_type": "execute_result"
    }
   ],
   "source": [
    "all_data.mcc_group.value_counts()"
   ],
   "metadata": {
    "collapsed": false,
    "pycharm": {
     "name": "#%%\n"
    }
   }
  },
  {
   "cell_type": "code",
   "execution_count": 39,
   "metadata": {},
   "outputs": [],
   "source": [
    "target_all = pd.merge(\n",
    "    pd.pivot_table(\n",
    "        all_data,\n",
    "        index='rec_user_id',\n",
    "        columns=['mcc_group'],\n",
    "        values='index',\n",
    "        aggfunc='count',\n",
    "        fill_value=0\n",
    "    ),\n",
    "    target[['rec_user_id', 'class']],\n",
    "    on='rec_user_id'\n",
    ")"
   ]
  },
  {
   "cell_type": "markdown",
   "metadata": {},
   "source": [
    "Новые данные:"
   ]
  },
  {
   "cell_type": "code",
   "execution_count": 40,
   "metadata": {},
   "outputs": [],
   "source": [
    "new_data_cleanest[['user_id', 'mcc_group', 'one']].to_csv('history_cleaned_new_data.csv', header=False)\n",
    "new_all_data = pd.read_csv(\n",
    "    'history_cleaned_new_data.csv',\n",
    "    header=0,\n",
    "    names=['index', 'rec_user_id', 'mcc_group', 'one']\n",
    ")"
   ]
  },
  {
   "cell_type": "markdown",
   "source": [
    "Есть получатель и информация, в каких точках он расплачивается."
   ],
   "metadata": {
    "collapsed": false
   }
  },
  {
   "cell_type": "code",
   "execution_count": 41,
   "outputs": [
    {
     "data": {
      "text/plain": "   index rec_user_id mcc_group  one\n0      1   102050167         R    0\n1      2   102050167         R    0\n2      3   102050167         R    0\n3      4   102050167         R    0\n4      5   102050167         R    0",
      "text/html": "<div>\n<style scoped>\n    .dataframe tbody tr th:only-of-type {\n        vertical-align: middle;\n    }\n\n    .dataframe tbody tr th {\n        vertical-align: top;\n    }\n\n    .dataframe thead th {\n        text-align: right;\n    }\n</style>\n<table border=\"1\" class=\"dataframe\">\n  <thead>\n    <tr style=\"text-align: right;\">\n      <th></th>\n      <th>index</th>\n      <th>rec_user_id</th>\n      <th>mcc_group</th>\n      <th>one</th>\n    </tr>\n  </thead>\n  <tbody>\n    <tr>\n      <th>0</th>\n      <td>1</td>\n      <td>102050167</td>\n      <td>R</td>\n      <td>0</td>\n    </tr>\n    <tr>\n      <th>1</th>\n      <td>2</td>\n      <td>102050167</td>\n      <td>R</td>\n      <td>0</td>\n    </tr>\n    <tr>\n      <th>2</th>\n      <td>3</td>\n      <td>102050167</td>\n      <td>R</td>\n      <td>0</td>\n    </tr>\n    <tr>\n      <th>3</th>\n      <td>4</td>\n      <td>102050167</td>\n      <td>R</td>\n      <td>0</td>\n    </tr>\n    <tr>\n      <th>4</th>\n      <td>5</td>\n      <td>102050167</td>\n      <td>R</td>\n      <td>0</td>\n    </tr>\n  </tbody>\n</table>\n</div>"
     },
     "execution_count": 41,
     "metadata": {},
     "output_type": "execute_result"
    }
   ],
   "source": [
    "new_all_data.head()"
   ],
   "metadata": {
    "collapsed": false,
    "pycharm": {
     "name": "#%%\n"
    }
   }
  },
  {
   "cell_type": "markdown",
   "metadata": {
    "pycharm": {
     "name": "#%% md\n"
    }
   },
   "source": [
    "Понимая характер трат и их количество, закодируем в 1 и 0 категориальные признаки."
   ]
  },
  {
   "cell_type": "code",
   "execution_count": 42,
   "outputs": [
    {
     "data": {
      "text/plain": "0    261144\n1      8556\nName: one, dtype: int64"
     },
     "execution_count": 42,
     "metadata": {},
     "output_type": "execute_result"
    }
   ],
   "source": [
    "new_all_data.one.value_counts()"
   ],
   "metadata": {
    "collapsed": false,
    "pycharm": {
     "name": "#%%\n"
    }
   }
  },
  {
   "cell_type": "code",
   "execution_count": 43,
   "metadata": {},
   "outputs": [
    {
     "data": {
      "text/plain": "     rec_user_id  A   C   F  H  J  O  Q   R  T   U  X   Z  class  one  \\\n0      100017681  0   5   0  0  0  0  0  14  0   9  1  42      0   21   \n1      100023450  0  23   0  0  0  0  0  31  0  19  0   2      0    0   \n2      100031471  0   1   0  0  0  0  0   6  0   0  0   0      0    1   \n3       10008487  0  24   6  0  0  0  0  21  0  41  1   7      0    1   \n4       10009395  0   6   0  0  0  0  0  13  0  16  0   0      0    0   \n...          ... ..  ..  .. .. .. .. ..  .. ..  .. ..  ..    ...  ...   \n6840  VSP4707035  0   3   0  0  0  0  0  10  0   0  0   3      0    3   \n6841  VSP4946126  0   0   0  0  0  0  0   2  0   3  0   9      0    3   \n6842  VSP4974530  0   1  10  0  0  0  0  29  0  20  2   0      0    0   \n6843  VSP5027027  0   4   0  0  0  0  0  16  0   5  0   9      0    0   \n6844  VSP5217599  0   2   3  0  0  0  0  10  1   3  0   8      0    0   \n\n                std  \n0      69139.844194  \n1       2335.039513  \n2         58.434334  \n3     220293.048516  \n4      16597.784888  \n...             ...  \n6840   24325.777545  \n6841   17509.782306  \n6842     758.450431  \n6843   18095.500000  \n6844   24777.818727  \n\n[6845 rows x 16 columns]",
      "text/html": "<div>\n<style scoped>\n    .dataframe tbody tr th:only-of-type {\n        vertical-align: middle;\n    }\n\n    .dataframe tbody tr th {\n        vertical-align: top;\n    }\n\n    .dataframe thead th {\n        text-align: right;\n    }\n</style>\n<table border=\"1\" class=\"dataframe\">\n  <thead>\n    <tr style=\"text-align: right;\">\n      <th></th>\n      <th>rec_user_id</th>\n      <th>A</th>\n      <th>C</th>\n      <th>F</th>\n      <th>H</th>\n      <th>J</th>\n      <th>O</th>\n      <th>Q</th>\n      <th>R</th>\n      <th>T</th>\n      <th>U</th>\n      <th>X</th>\n      <th>Z</th>\n      <th>class</th>\n      <th>one</th>\n      <th>std</th>\n    </tr>\n  </thead>\n  <tbody>\n    <tr>\n      <th>0</th>\n      <td>100017681</td>\n      <td>0</td>\n      <td>5</td>\n      <td>0</td>\n      <td>0</td>\n      <td>0</td>\n      <td>0</td>\n      <td>0</td>\n      <td>14</td>\n      <td>0</td>\n      <td>9</td>\n      <td>1</td>\n      <td>42</td>\n      <td>0</td>\n      <td>21</td>\n      <td>69139.844194</td>\n    </tr>\n    <tr>\n      <th>1</th>\n      <td>100023450</td>\n      <td>0</td>\n      <td>23</td>\n      <td>0</td>\n      <td>0</td>\n      <td>0</td>\n      <td>0</td>\n      <td>0</td>\n      <td>31</td>\n      <td>0</td>\n      <td>19</td>\n      <td>0</td>\n      <td>2</td>\n      <td>0</td>\n      <td>0</td>\n      <td>2335.039513</td>\n    </tr>\n    <tr>\n      <th>2</th>\n      <td>100031471</td>\n      <td>0</td>\n      <td>1</td>\n      <td>0</td>\n      <td>0</td>\n      <td>0</td>\n      <td>0</td>\n      <td>0</td>\n      <td>6</td>\n      <td>0</td>\n      <td>0</td>\n      <td>0</td>\n      <td>0</td>\n      <td>0</td>\n      <td>1</td>\n      <td>58.434334</td>\n    </tr>\n    <tr>\n      <th>3</th>\n      <td>10008487</td>\n      <td>0</td>\n      <td>24</td>\n      <td>6</td>\n      <td>0</td>\n      <td>0</td>\n      <td>0</td>\n      <td>0</td>\n      <td>21</td>\n      <td>0</td>\n      <td>41</td>\n      <td>1</td>\n      <td>7</td>\n      <td>0</td>\n      <td>1</td>\n      <td>220293.048516</td>\n    </tr>\n    <tr>\n      <th>4</th>\n      <td>10009395</td>\n      <td>0</td>\n      <td>6</td>\n      <td>0</td>\n      <td>0</td>\n      <td>0</td>\n      <td>0</td>\n      <td>0</td>\n      <td>13</td>\n      <td>0</td>\n      <td>16</td>\n      <td>0</td>\n      <td>0</td>\n      <td>0</td>\n      <td>0</td>\n      <td>16597.784888</td>\n    </tr>\n    <tr>\n      <th>...</th>\n      <td>...</td>\n      <td>...</td>\n      <td>...</td>\n      <td>...</td>\n      <td>...</td>\n      <td>...</td>\n      <td>...</td>\n      <td>...</td>\n      <td>...</td>\n      <td>...</td>\n      <td>...</td>\n      <td>...</td>\n      <td>...</td>\n      <td>...</td>\n      <td>...</td>\n      <td>...</td>\n    </tr>\n    <tr>\n      <th>6840</th>\n      <td>VSP4707035</td>\n      <td>0</td>\n      <td>3</td>\n      <td>0</td>\n      <td>0</td>\n      <td>0</td>\n      <td>0</td>\n      <td>0</td>\n      <td>10</td>\n      <td>0</td>\n      <td>0</td>\n      <td>0</td>\n      <td>3</td>\n      <td>0</td>\n      <td>3</td>\n      <td>24325.777545</td>\n    </tr>\n    <tr>\n      <th>6841</th>\n      <td>VSP4946126</td>\n      <td>0</td>\n      <td>0</td>\n      <td>0</td>\n      <td>0</td>\n      <td>0</td>\n      <td>0</td>\n      <td>0</td>\n      <td>2</td>\n      <td>0</td>\n      <td>3</td>\n      <td>0</td>\n      <td>9</td>\n      <td>0</td>\n      <td>3</td>\n      <td>17509.782306</td>\n    </tr>\n    <tr>\n      <th>6842</th>\n      <td>VSP4974530</td>\n      <td>0</td>\n      <td>1</td>\n      <td>10</td>\n      <td>0</td>\n      <td>0</td>\n      <td>0</td>\n      <td>0</td>\n      <td>29</td>\n      <td>0</td>\n      <td>20</td>\n      <td>2</td>\n      <td>0</td>\n      <td>0</td>\n      <td>0</td>\n      <td>758.450431</td>\n    </tr>\n    <tr>\n      <th>6843</th>\n      <td>VSP5027027</td>\n      <td>0</td>\n      <td>4</td>\n      <td>0</td>\n      <td>0</td>\n      <td>0</td>\n      <td>0</td>\n      <td>0</td>\n      <td>16</td>\n      <td>0</td>\n      <td>5</td>\n      <td>0</td>\n      <td>9</td>\n      <td>0</td>\n      <td>0</td>\n      <td>18095.500000</td>\n    </tr>\n    <tr>\n      <th>6844</th>\n      <td>VSP5217599</td>\n      <td>0</td>\n      <td>2</td>\n      <td>3</td>\n      <td>0</td>\n      <td>0</td>\n      <td>0</td>\n      <td>0</td>\n      <td>10</td>\n      <td>1</td>\n      <td>3</td>\n      <td>0</td>\n      <td>8</td>\n      <td>0</td>\n      <td>0</td>\n      <td>24777.818727</td>\n    </tr>\n  </tbody>\n</table>\n<p>6845 rows × 16 columns</p>\n</div>"
     },
     "execution_count": 43,
     "metadata": {},
     "output_type": "execute_result"
    }
   ],
   "source": [
    "new_target_all = pd.merge(\n",
    "    pd.pivot_table(\n",
    "        new_all_data,\n",
    "        index='rec_user_id',\n",
    "        columns=['mcc_group'],\n",
    "        values='index',\n",
    "        aggfunc='count',\n",
    "        fill_value=0\n",
    "    ),\n",
    "    target[['rec_user_id', 'class']],\n",
    "    on='rec_user_id'\n",
    ")\n",
    "new_target_all['one'] = new_data_cleanest \\\n",
    "    .groupby('user_id') \\\n",
    "    .apply(lambda x: (x['amount'] == 1).sum()) \\\n",
    "    .reset_index(name='count')['count']\n",
    "new_target_all['std'] = new_data_cleanest \\\n",
    "    .groupby('user_id') \\\n",
    "    .apply(lambda x: np.std(x['amount'])) \\\n",
    "    .reset_index(name='count')['count']\n",
    "new_target_all = new_target_all.dropna()\n",
    "new_target_all['one'] = new_target_all['one'].astype(int)\n",
    "\n",
    "# получатель с классом 0 и где у него были траты\n",
    "new_target_all"
   ]
  },
  {
   "cell_type": "code",
   "execution_count": 44,
   "metadata": {},
   "outputs": [
    {
     "data": {
      "text/plain": "0    6798\n1      47\nName: class, dtype: int64"
     },
     "execution_count": 44,
     "metadata": {},
     "output_type": "execute_result"
    }
   ],
   "source": [
    "new_target_all['class'].value_counts()"
   ]
  },
  {
   "cell_type": "markdown",
   "source": [
    "6798 – легитимные, 47 – фрод."
   ],
   "metadata": {
    "collapsed": false,
    "pycharm": {
     "name": "#%% md\n"
    }
   }
  },
  {
   "cell_type": "markdown",
   "metadata": {
    "pycharm": {
     "name": "#%% md\n"
    }
   },
   "source": [
    "Получили данные:"
   ]
  },
  {
   "cell_type": "code",
   "execution_count": 45,
   "outputs": [],
   "source": [
    "x_data = new_target_all.drop(columns=['class', 'rec_user_id'])\n",
    "y_data = new_target_all['class']"
   ],
   "metadata": {
    "collapsed": false,
    "pycharm": {
     "name": "#%%\n"
    }
   }
  },
  {
   "cell_type": "markdown",
   "source": [
    "Разделяем выборку на обучающую и контрольную (20 процентов для тестирования):"
   ],
   "metadata": {
    "collapsed": false,
    "pycharm": {
     "name": "#%% md\n"
    }
   }
  },
  {
   "cell_type": "code",
   "execution_count": 46,
   "outputs": [],
   "source": [
    "x_train, x_test, y_train, y_test = train_test_split(\n",
    "    x_data,\n",
    "    y_data,\n",
    "    test_size=.2,\n",
    "    random_state=123\n",
    ")"
   ],
   "metadata": {
    "collapsed": false,
    "pycharm": {
     "name": "#%%\n"
    }
   }
  },
  {
   "cell_type": "markdown",
   "source": [
    "Количество записей:"
   ],
   "metadata": {
    "collapsed": false,
    "pycharm": {
     "name": "#%% md\n"
    }
   }
  },
  {
   "cell_type": "code",
   "execution_count": 47,
   "outputs": [
    {
     "data": {
      "text/plain": "(1369, 14)"
     },
     "execution_count": 47,
     "metadata": {},
     "output_type": "execute_result"
    }
   ],
   "source": [
    "x_test.shape"
   ],
   "metadata": {
    "collapsed": false,
    "pycharm": {
     "name": "#%%\n"
    }
   }
  },
  {
   "cell_type": "code",
   "execution_count": 48,
   "metadata": {},
   "outputs": [
    {
     "data": {
      "text/plain": "(5476,)"
     },
     "execution_count": 48,
     "metadata": {},
     "output_type": "execute_result"
    }
   ],
   "source": [
    "y_train.shape"
   ]
  },
  {
   "cell_type": "markdown",
   "metadata": {
    "pycharm": {
     "name": "#%% md\n"
    }
   },
   "source": [
    "Моделирование (можно менять гиперпараметры, чтобы избавиться от дизбаланса):"
   ]
  },
  {
   "cell_type": "code",
   "execution_count": 49,
   "outputs": [
    {
     "data": {
      "text/plain": "0    1362\n1       7\nName: class, dtype: int64"
     },
     "execution_count": 49,
     "metadata": {},
     "output_type": "execute_result"
    }
   ],
   "source": [
    "clf = RandomForestClassifier(class_weight={0: 1, 1: 15})\n",
    "clf.fit(x_train, y_train)\n",
    "\n",
    "y_pred = pd.Series(clf.predict(x_test), index=x_test.index)\n",
    "\n",
    "y_test.value_counts()"
   ],
   "metadata": {
    "collapsed": false,
    "pycharm": {
     "name": "#%%\n"
    }
   }
  },
  {
   "cell_type": "markdown",
   "metadata": {
    "pycharm": {
     "name": "#%% md\n"
    }
   },
   "source": [
    "Результат работы модели:"
   ]
  },
  {
   "cell_type": "code",
   "execution_count": 50,
   "outputs": [
    {
     "data": {
      "text/plain": "array([[1361,    1],\n       [   7,    0]], dtype=int64)"
     },
     "execution_count": 50,
     "metadata": {},
     "output_type": "execute_result"
    }
   ],
   "source": [
    "confusion_matrix(y_test, y_pred)"
   ],
   "metadata": {
    "collapsed": false,
    "pycharm": {
     "name": "#%%\n"
    }
   }
  },
  {
   "cell_type": "code",
   "execution_count": 51,
   "metadata": {
    "pycharm": {
     "name": "#%%\n"
    }
   },
   "outputs": [
    {
     "name": "stdout",
     "output_type": "stream",
     "text": [
      "              precision    recall  f1-score   support\n",
      "\n",
      "     Genuine       0.99      1.00      1.00      1362\n",
      "       Fraud       0.00      0.00      0.00         7\n",
      "\n",
      "    accuracy                           0.99      1369\n",
      "   macro avg       0.50      0.50      0.50      1369\n",
      "weighted avg       0.99      0.99      0.99      1369\n",
      "\n"
     ]
    }
   ],
   "source": [
    "print(classification_report(y_test, y_pred, target_names=['Genuine', 'Fraud']))"
   ]
  }
 ],
 "metadata": {
  "kernelspec": {
   "name": "python3",
   "language": "python",
   "display_name": "Python 3"
  },
  "language_info": {
   "codemirror_mode": {
    "name": "ipython",
    "version": 3
   },
   "file_extension": ".py",
   "mimetype": "text/x-python",
   "name": "python",
   "nbconvert_exporter": "python",
   "pygments_lexer": "ipython3",
   "version": "3.7.9"
  }
 },
 "nbformat": 4,
 "nbformat_minor": 2
}